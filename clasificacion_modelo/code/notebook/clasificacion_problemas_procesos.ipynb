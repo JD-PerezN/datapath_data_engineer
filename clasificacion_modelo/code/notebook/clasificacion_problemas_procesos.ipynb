{
 "cells": [
  {
   "cell_type": "markdown",
   "id": "d50647d7",
   "metadata": {},
   "source": [
    "# Ejercicio práctico Clasificación problemas servidores"
   ]
  },
  {
   "cell_type": "markdown",
   "id": "3e0cdb38",
   "metadata": {},
   "source": [
    "## Julián David Pérez Navarro - Data engineering bootcamp - Datapath"
   ]
  },
  {
   "cell_type": "markdown",
   "id": "351799ef",
   "metadata": {},
   "source": [
    "### Librerías"
   ]
  },
  {
   "cell_type": "code",
   "execution_count": 1,
   "id": "6685ca2a",
   "metadata": {},
   "outputs": [],
   "source": [
    "from pathlib import Path\n",
    "\n",
    "import matplotlib.pyplot as plt\n",
    "import pandas as pd\n",
    "from sklearn.model_selection import train_test_split\n",
    "from imblearn.over_sampling import SMOTE\n",
    "from sklearn.preprocessing import OneHotEncoder, StandardScaler\n",
    "from sklearn.svm import SVC\n",
    "from sklearn.ensemble import RandomForestClassifier\n",
    "from sklearn.tree import DecisionTreeClassifier\n",
    "from sklearn.linear_model import LogisticRegression\n",
    "from sklearn.model_selection import GridSearchCV\n",
    "from sklearn.metrics import classification_report, roc_auc_score, roc_curve, accuracy_score, precision_score, recall_score, f1_score"
   ]
  },
  {
   "cell_type": "markdown",
   "id": "5e33162b",
   "metadata": {},
   "source": [
    "### Ruta del archivo de procesos"
   ]
  },
  {
   "cell_type": "code",
   "execution_count": 2,
   "id": "7cae7c36",
   "metadata": {},
   "outputs": [],
   "source": [
    "DATOS_PROCESOS_PATH = Path.cwd().parent / \"data\" / \"datos_procesos.csv\""
   ]
  },
  {
   "cell_type": "code",
   "execution_count": 3,
   "id": "f6859154",
   "metadata": {},
   "outputs": [
    {
     "data": {
      "application/vnd.microsoft.datawrangler.viewer.v0+json": {
       "columns": [
        {
         "name": "index",
         "rawType": "int64",
         "type": "integer"
        },
        {
         "name": "ID_Proceso",
         "rawType": "int64",
         "type": "integer"
        },
        {
         "name": "Uso_CPU",
         "rawType": "float64",
         "type": "float"
        },
        {
         "name": "Uso_Memoria",
         "rawType": "float64",
         "type": "float"
        },
        {
         "name": "Numero_Hilos",
         "rawType": "int64",
         "type": "integer"
        },
        {
         "name": "Tiempo_Ejecucion",
         "rawType": "float64",
         "type": "float"
        },
        {
         "name": "Numero_Errores",
         "rawType": "int64",
         "type": "integer"
        },
        {
         "name": "Tipo_Proceso",
         "rawType": "object",
         "type": "string"
        },
        {
         "name": "Estado",
         "rawType": "int64",
         "type": "integer"
        }
       ],
       "ref": "255e2831-24da-4ef6-984a-b4b8a5e95ff0",
       "rows": [
        [
         "0",
         "1",
         "37.454011884736246",
         "59.51556239482597",
         "16",
         "8.184878525826031",
         "3",
         "Aplicación",
         "0"
        ],
        [
         "1",
         "2",
         "95.07143064099162",
         "36.471714285912725",
         "18",
         "76.19525577955231",
         "8",
         "Aplicación",
         "0"
        ],
        [
         "2",
         "3",
         "73.1993941811405",
         "0.5375620092194944",
         "21",
         "46.99113835235978",
         "3",
         "Aplicación",
         "0"
        ],
        [
         "3",
         "4",
         "59.86584841970366",
         "56.10877259939203",
         "28",
         "87.88432491824175",
         "4",
         "Aplicación",
         "0"
        ],
        [
         "4",
         "5",
         "15.601864044243651",
         "89.65704111485974",
         "39",
         "4.622598532674632",
         "1",
         "Sistema",
         "0"
        ]
       ],
       "shape": {
        "columns": 8,
        "rows": 5
       }
      },
      "text/html": [
       "<div>\n",
       "<style scoped>\n",
       "    .dataframe tbody tr th:only-of-type {\n",
       "        vertical-align: middle;\n",
       "    }\n",
       "\n",
       "    .dataframe tbody tr th {\n",
       "        vertical-align: top;\n",
       "    }\n",
       "\n",
       "    .dataframe thead th {\n",
       "        text-align: right;\n",
       "    }\n",
       "</style>\n",
       "<table border=\"1\" class=\"dataframe\">\n",
       "  <thead>\n",
       "    <tr style=\"text-align: right;\">\n",
       "      <th></th>\n",
       "      <th>ID_Proceso</th>\n",
       "      <th>Uso_CPU</th>\n",
       "      <th>Uso_Memoria</th>\n",
       "      <th>Numero_Hilos</th>\n",
       "      <th>Tiempo_Ejecucion</th>\n",
       "      <th>Numero_Errores</th>\n",
       "      <th>Tipo_Proceso</th>\n",
       "      <th>Estado</th>\n",
       "    </tr>\n",
       "  </thead>\n",
       "  <tbody>\n",
       "    <tr>\n",
       "      <th>0</th>\n",
       "      <td>1</td>\n",
       "      <td>37.454012</td>\n",
       "      <td>59.515562</td>\n",
       "      <td>16</td>\n",
       "      <td>8.184879</td>\n",
       "      <td>3</td>\n",
       "      <td>Aplicación</td>\n",
       "      <td>0</td>\n",
       "    </tr>\n",
       "    <tr>\n",
       "      <th>1</th>\n",
       "      <td>2</td>\n",
       "      <td>95.071431</td>\n",
       "      <td>36.471714</td>\n",
       "      <td>18</td>\n",
       "      <td>76.195256</td>\n",
       "      <td>8</td>\n",
       "      <td>Aplicación</td>\n",
       "      <td>0</td>\n",
       "    </tr>\n",
       "    <tr>\n",
       "      <th>2</th>\n",
       "      <td>3</td>\n",
       "      <td>73.199394</td>\n",
       "      <td>0.537562</td>\n",
       "      <td>21</td>\n",
       "      <td>46.991138</td>\n",
       "      <td>3</td>\n",
       "      <td>Aplicación</td>\n",
       "      <td>0</td>\n",
       "    </tr>\n",
       "    <tr>\n",
       "      <th>3</th>\n",
       "      <td>4</td>\n",
       "      <td>59.865848</td>\n",
       "      <td>56.108773</td>\n",
       "      <td>28</td>\n",
       "      <td>87.884325</td>\n",
       "      <td>4</td>\n",
       "      <td>Aplicación</td>\n",
       "      <td>0</td>\n",
       "    </tr>\n",
       "    <tr>\n",
       "      <th>4</th>\n",
       "      <td>5</td>\n",
       "      <td>15.601864</td>\n",
       "      <td>89.657041</td>\n",
       "      <td>39</td>\n",
       "      <td>4.622599</td>\n",
       "      <td>1</td>\n",
       "      <td>Sistema</td>\n",
       "      <td>0</td>\n",
       "    </tr>\n",
       "  </tbody>\n",
       "</table>\n",
       "</div>"
      ],
      "text/plain": [
       "   ID_Proceso    Uso_CPU  Uso_Memoria  Numero_Hilos  Tiempo_Ejecucion  \\\n",
       "0           1  37.454012    59.515562            16          8.184879   \n",
       "1           2  95.071431    36.471714            18         76.195256   \n",
       "2           3  73.199394     0.537562            21         46.991138   \n",
       "3           4  59.865848    56.108773            28         87.884325   \n",
       "4           5  15.601864    89.657041            39          4.622599   \n",
       "\n",
       "   Numero_Errores Tipo_Proceso  Estado  \n",
       "0               3   Aplicación       0  \n",
       "1               8   Aplicación       0  \n",
       "2               3   Aplicación       0  \n",
       "3               4   Aplicación       0  \n",
       "4               1      Sistema       0  "
      ]
     },
     "execution_count": 3,
     "metadata": {},
     "output_type": "execute_result"
    }
   ],
   "source": [
    "df = pd.read_csv(DATOS_PROCESOS_PATH, sep=\"|\")\n",
    "\n",
    "df.head()"
   ]
  },
  {
   "cell_type": "markdown",
   "id": "7abbe70e",
   "metadata": {},
   "source": [
    "Se usó el separador \"|\" ya que es el separador configurado en el sistema\n",
    "\n",
    "Antes de continuar con el EDA, se eliminará la columna `ID_Proceso` ya que es una columna de ID y genera ruido para el análisis"
   ]
  },
  {
   "cell_type": "code",
   "execution_count": 4,
   "id": "a77638c2",
   "metadata": {},
   "outputs": [
    {
     "data": {
      "application/vnd.microsoft.datawrangler.viewer.v0+json": {
       "columns": [
        {
         "name": "index",
         "rawType": "int64",
         "type": "integer"
        },
        {
         "name": "Uso_CPU",
         "rawType": "float64",
         "type": "float"
        },
        {
         "name": "Uso_Memoria",
         "rawType": "float64",
         "type": "float"
        },
        {
         "name": "Numero_Hilos",
         "rawType": "int64",
         "type": "integer"
        },
        {
         "name": "Tiempo_Ejecucion",
         "rawType": "float64",
         "type": "float"
        },
        {
         "name": "Numero_Errores",
         "rawType": "int64",
         "type": "integer"
        },
        {
         "name": "Tipo_Proceso",
         "rawType": "object",
         "type": "string"
        },
        {
         "name": "Estado",
         "rawType": "int64",
         "type": "integer"
        }
       ],
       "ref": "1c16a56f-61e5-466c-9854-d252f8838166",
       "rows": [
        [
         "0",
         "37.454011884736246",
         "59.51556239482597",
         "16",
         "8.184878525826031",
         "3",
         "Aplicación",
         "0"
        ],
        [
         "1",
         "95.07143064099162",
         "36.471714285912725",
         "18",
         "76.19525577955231",
         "8",
         "Aplicación",
         "0"
        ],
        [
         "2",
         "73.1993941811405",
         "0.5375620092194944",
         "21",
         "46.99113835235978",
         "3",
         "Aplicación",
         "0"
        ],
        [
         "3",
         "59.86584841970366",
         "56.10877259939203",
         "28",
         "87.88432491824175",
         "4",
         "Aplicación",
         "0"
        ],
        [
         "4",
         "15.601864044243651",
         "89.65704111485974",
         "39",
         "4.622598532674632",
         "1",
         "Sistema",
         "0"
        ]
       ],
       "shape": {
        "columns": 7,
        "rows": 5
       }
      },
      "text/html": [
       "<div>\n",
       "<style scoped>\n",
       "    .dataframe tbody tr th:only-of-type {\n",
       "        vertical-align: middle;\n",
       "    }\n",
       "\n",
       "    .dataframe tbody tr th {\n",
       "        vertical-align: top;\n",
       "    }\n",
       "\n",
       "    .dataframe thead th {\n",
       "        text-align: right;\n",
       "    }\n",
       "</style>\n",
       "<table border=\"1\" class=\"dataframe\">\n",
       "  <thead>\n",
       "    <tr style=\"text-align: right;\">\n",
       "      <th></th>\n",
       "      <th>Uso_CPU</th>\n",
       "      <th>Uso_Memoria</th>\n",
       "      <th>Numero_Hilos</th>\n",
       "      <th>Tiempo_Ejecucion</th>\n",
       "      <th>Numero_Errores</th>\n",
       "      <th>Tipo_Proceso</th>\n",
       "      <th>Estado</th>\n",
       "    </tr>\n",
       "  </thead>\n",
       "  <tbody>\n",
       "    <tr>\n",
       "      <th>0</th>\n",
       "      <td>37.454012</td>\n",
       "      <td>59.515562</td>\n",
       "      <td>16</td>\n",
       "      <td>8.184879</td>\n",
       "      <td>3</td>\n",
       "      <td>Aplicación</td>\n",
       "      <td>0</td>\n",
       "    </tr>\n",
       "    <tr>\n",
       "      <th>1</th>\n",
       "      <td>95.071431</td>\n",
       "      <td>36.471714</td>\n",
       "      <td>18</td>\n",
       "      <td>76.195256</td>\n",
       "      <td>8</td>\n",
       "      <td>Aplicación</td>\n",
       "      <td>0</td>\n",
       "    </tr>\n",
       "    <tr>\n",
       "      <th>2</th>\n",
       "      <td>73.199394</td>\n",
       "      <td>0.537562</td>\n",
       "      <td>21</td>\n",
       "      <td>46.991138</td>\n",
       "      <td>3</td>\n",
       "      <td>Aplicación</td>\n",
       "      <td>0</td>\n",
       "    </tr>\n",
       "    <tr>\n",
       "      <th>3</th>\n",
       "      <td>59.865848</td>\n",
       "      <td>56.108773</td>\n",
       "      <td>28</td>\n",
       "      <td>87.884325</td>\n",
       "      <td>4</td>\n",
       "      <td>Aplicación</td>\n",
       "      <td>0</td>\n",
       "    </tr>\n",
       "    <tr>\n",
       "      <th>4</th>\n",
       "      <td>15.601864</td>\n",
       "      <td>89.657041</td>\n",
       "      <td>39</td>\n",
       "      <td>4.622599</td>\n",
       "      <td>1</td>\n",
       "      <td>Sistema</td>\n",
       "      <td>0</td>\n",
       "    </tr>\n",
       "  </tbody>\n",
       "</table>\n",
       "</div>"
      ],
      "text/plain": [
       "     Uso_CPU  Uso_Memoria  Numero_Hilos  Tiempo_Ejecucion  Numero_Errores  \\\n",
       "0  37.454012    59.515562            16          8.184879               3   \n",
       "1  95.071431    36.471714            18         76.195256               8   \n",
       "2  73.199394     0.537562            21         46.991138               3   \n",
       "3  59.865848    56.108773            28         87.884325               4   \n",
       "4  15.601864    89.657041            39          4.622599               1   \n",
       "\n",
       "  Tipo_Proceso  Estado  \n",
       "0   Aplicación       0  \n",
       "1   Aplicación       0  \n",
       "2   Aplicación       0  \n",
       "3   Aplicación       0  \n",
       "4      Sistema       0  "
      ]
     },
     "execution_count": 4,
     "metadata": {},
     "output_type": "execute_result"
    }
   ],
   "source": [
    "df_procesos = df.drop(columns=[\"ID_Proceso\"])\n",
    "\n",
    "df_procesos.head()"
   ]
  },
  {
   "cell_type": "markdown",
   "id": "41afe82b",
   "metadata": {},
   "source": [
    "Notamos que la información se carga sin problemas. Procederemos a realizar el EDA"
   ]
  },
  {
   "cell_type": "markdown",
   "id": "a7a2fb71",
   "metadata": {},
   "source": [
    "### EDA"
   ]
  },
  {
   "cell_type": "markdown",
   "id": "4e2e800a",
   "metadata": {},
   "source": [
    "Miremos los tipos de datos del dataset, especialmente que todos coincidan"
   ]
  },
  {
   "cell_type": "code",
   "execution_count": 5,
   "id": "64c85a4d",
   "metadata": {},
   "outputs": [
    {
     "name": "stdout",
     "output_type": "stream",
     "text": [
      "<class 'pandas.core.frame.DataFrame'>\n",
      "RangeIndex: 1000000 entries, 0 to 999999\n",
      "Data columns (total 7 columns):\n",
      " #   Column            Non-Null Count    Dtype  \n",
      "---  ------            --------------    -----  \n",
      " 0   Uso_CPU           1000000 non-null  float64\n",
      " 1   Uso_Memoria       1000000 non-null  float64\n",
      " 2   Numero_Hilos      1000000 non-null  int64  \n",
      " 3   Tiempo_Ejecucion  1000000 non-null  float64\n",
      " 4   Numero_Errores    1000000 non-null  int64  \n",
      " 5   Tipo_Proceso      1000000 non-null  object \n",
      " 6   Estado            1000000 non-null  int64  \n",
      "dtypes: float64(3), int64(3), object(1)\n",
      "memory usage: 53.4+ MB\n"
     ]
    }
   ],
   "source": [
    "df_procesos.info()"
   ]
  },
  {
   "cell_type": "markdown",
   "id": "dc4e6e31",
   "metadata": {},
   "source": [
    "Miremos los valores faltantes en el dataset"
   ]
  },
  {
   "cell_type": "code",
   "execution_count": 6,
   "id": "568c11d4",
   "metadata": {},
   "outputs": [
    {
     "name": "stdout",
     "output_type": "stream",
     "text": [
      "Valores faltantes por columna:\n",
      " ID_Proceso          0\n",
      "Uso_CPU             0\n",
      "Uso_Memoria         0\n",
      "Numero_Hilos        0\n",
      "Tiempo_Ejecucion    0\n",
      "Numero_Errores      0\n",
      "Tipo_Proceso        0\n",
      "Estado              0\n",
      "dtype: int64\n"
     ]
    }
   ],
   "source": [
    "missing_values = df.isnull().sum()\n",
    "print(\"Valores faltantes por columna:\\n\", missing_values)"
   ]
  },
  {
   "cell_type": "markdown",
   "id": "6248a1c2",
   "metadata": {},
   "source": [
    "Se dividen en variables independientes (X) y variable dependiente (y)"
   ]
  },
  {
   "cell_type": "code",
   "execution_count": 7,
   "id": "9d4eb2ed",
   "metadata": {},
   "outputs": [],
   "source": [
    "X = df_procesos.drop(columns=[\"Estado\"], axis=1)\n",
    "y = df_procesos[\"Estado\"]"
   ]
  },
  {
   "cell_type": "markdown",
   "id": "1ac1aa19",
   "metadata": {},
   "source": [
    "Analicemos la distribución de las variables numéricas"
   ]
  },
  {
   "cell_type": "code",
   "execution_count": 8,
   "id": "6ef47e9a",
   "metadata": {},
   "outputs": [
    {
     "data": {
      "image/png": "[encoded data removed]",
      "text/plain": [
       "<Figure size 1200x800 with 6 Axes>"
      ]
     },
     "metadata": {},
     "output_type": "display_data"
    }
   ],
   "source": [
    "# Se analizarán aquellas variables cuyo tipo de dato sea numérico (float e int), y se graficará su distribución\n",
    "numeric_cols = X.select_dtypes(include=['float64', 'int64']).columns\n",
    "df[numeric_cols].hist(figsize=(12, 8), bins=50)\n",
    "plt.tight_layout()\n",
    "plt.show()"
   ]
  },
  {
   "cell_type": "markdown",
   "id": "71b41761",
   "metadata": {},
   "source": [
    "Ahora analicemos la frecuencia de las categorías de las variables categóricas"
   ]
  },
  {
   "cell_type": "code",
   "execution_count": 9,
   "id": "f23f1726",
   "metadata": {},
   "outputs": [
    {
     "name": "stdout",
     "output_type": "stream",
     "text": [
      "\n",
      "Frecuencia de categorías en 'Tipo_Proceso':\n",
      "Tipo_Proceso\n",
      "Servicio      334085\n",
      "Aplicación    332961\n",
      "Sistema       332954\n",
      "Name: count, dtype: int64\n"
     ]
    }
   ],
   "source": [
    "# Se tendrán en cuenta las variables tipo object\n",
    "categorical_cols = X.select_dtypes(include=['object']).columns\n",
    "for col in categorical_cols:\n",
    "    print(f\"\\nFrecuencia de categorías en '{col}':\")\n",
    "    print(df[col].value_counts())"
   ]
  },
  {
   "cell_type": "markdown",
   "id": "c9f69386",
   "metadata": {},
   "source": [
    "Al ser una variable categórica, se realizará un proceso posterior de \"encoding\" para convertirla en variable numérica"
   ]
  },
  {
   "cell_type": "markdown",
   "id": "519982c2",
   "metadata": {},
   "source": [
    "Ahora, miremos la distribución de la variable objetivo con el fin de identificar balanceo de clases"
   ]
  },
  {
   "cell_type": "code",
   "execution_count": 10,
   "id": "9b6ef9ff",
   "metadata": {},
   "outputs": [
    {
     "name": "stdout",
     "output_type": "stream",
     "text": [
      "Distribución de la variable objetivo 'Estado':\n",
      "Estado\n",
      "0    0.935369\n",
      "1    0.064631\n",
      "Name: proportion, dtype: float64\n"
     ]
    },
    {
     "data": {
      "image/png": "[encoded data removed]",
      "text/plain": [
       "<Figure size 600x400 with 1 Axes>"
      ]
     },
     "metadata": {},
     "output_type": "display_data"
    },
    {
     "name": "stdout",
     "output_type": "stream",
     "text": [
      "Existe desbalance entre las clases.\n"
     ]
    }
   ],
   "source": [
    "estado_counts = df['Estado'].value_counts(normalize=True)\n",
    "print(\"Distribución de la variable objetivo 'Estado':\")\n",
    "print(estado_counts)\n",
    "\n",
    "plt.figure(figsize=(6,4))\n",
    "df['Estado'].value_counts().plot(kind='bar')\n",
    "plt.title(\"Distribución de la variable objetivo 'Estado'\")\n",
    "plt.xlabel(\"Clase\")\n",
    "plt.ylabel(\"Cantidad de registros\")\n",
    "plt.show()\n",
    "\n",
    "# Determinación de desbalance (se usará un umbral de 0.4 para considerar desbalance)\n",
    "if estado_counts.min() < 0.4:\n",
    "    print(\"Existe desbalance entre las clases.\")\n",
    "else:\n",
    "    print(\"No existe un desbalance significativo entre las clases.\")"
   ]
  },
  {
   "cell_type": "markdown",
   "id": "0bc1afff",
   "metadata": {},
   "source": [
    "Al existir un desbalance entre las clases, se usará el método de SMOTE para crear nuevas muestras de la clase minoritaria para no perder información existente de la clase mayoritaria"
   ]
  },
  {
   "cell_type": "markdown",
   "id": "beb299e0",
   "metadata": {},
   "source": [
    "Miremos si existen valores duplicados en el dataset"
   ]
  },
  {
   "cell_type": "code",
   "execution_count": 11,
   "id": "24baebf7",
   "metadata": {
    "vscode": {
     "languageId": "ruby"
    }
   },
   "outputs": [
    {
     "name": "stdout",
     "output_type": "stream",
     "text": [
      "Número de filas duplicadas en el dataset: 0\n",
      "No existen valores duplicados en el dataset.\n"
     ]
    }
   ],
   "source": [
    "# Verificar si existen filas duplicadas en el dataset\n",
    "duplicados = X.duplicated().sum()\n",
    "print(f\"Número de filas duplicadas en el dataset: {duplicados}\")\n",
    "\n",
    "if duplicados > 0:\n",
    "    print(\"Existen valores duplicados en el dataset.\")\n",
    "else:\n",
    "    print(\"No existen valores duplicados en el dataset.\")"
   ]
  },
  {
   "cell_type": "markdown",
   "id": "42fa15f7",
   "metadata": {},
   "source": [
    "Procedemos a organizar el dataset en los 3 conjuntos (entrenamiento, validación y pruebas)"
   ]
  },
  {
   "cell_type": "code",
   "execution_count": 12,
   "id": "a2511947",
   "metadata": {},
   "outputs": [
    {
     "name": "stdout",
     "output_type": "stream",
     "text": [
      "Tamaño del conjunto de entrenamiento: (700000, 6)\n",
      "Tamaño del conjunto de validación: (350000, 6)\n",
      "Tamaño del conjunto de prueba: (350000, 6)\n"
     ]
    }
   ],
   "source": [
    "X_train, X_temp, y_train, y_temp = train_test_split(X, y, test_size=0.3, random_state=22, stratify=y)\n",
    "X_val, X_test, y_val, y_test = train_test_split(X_train, y_train, test_size=0.5, random_state=22, stratify=y_train)\n",
    "\n",
    "print(f\"Tamaño del conjunto de entrenamiento: {X_train.shape}\")\n",
    "print(f\"Tamaño del conjunto de validación: {X_val.shape}\")\n",
    "print(f\"Tamaño del conjunto de prueba: {X_test.shape}\")"
   ]
  },
  {
   "cell_type": "markdown",
   "id": "c2e2039c",
   "metadata": {},
   "source": [
    "Se realizará el one-hot encoding sobre la variable categórica"
   ]
  },
  {
   "cell_type": "code",
   "execution_count": 13,
   "id": "ba831da7",
   "metadata": {},
   "outputs": [
    {
     "data": {
      "text/plain": [
       "Index(['Tipo_Proceso'], dtype='object')"
      ]
     },
     "execution_count": 13,
     "metadata": {},
     "output_type": "execute_result"
    }
   ],
   "source": [
    "categorical_cols"
   ]
  },
  {
   "cell_type": "code",
   "execution_count": 14,
   "id": "e3500aab",
   "metadata": {},
   "outputs": [
    {
     "name": "stdout",
     "output_type": "stream",
     "text": [
      "\n",
      "Dataset de entrenamiento tras One-Hot Encoding:\n",
      "     Uso_CPU  Uso_Memoria  Numero_Hilos  Tiempo_Ejecucion  Numero_Errores  \\\n",
      "0  29.249369    26.824178            25         58.476116               4   \n",
      "1  93.269534     5.679184            48         39.239492               7   \n",
      "2  82.760455    51.994644            20         41.727167               7   \n",
      "3  43.577065    18.190243            48         31.600070               5   \n",
      "4  93.163124    55.731909            14         24.877049               7   \n",
      "\n",
      "   Tipo_Proceso_Aplicación  Tipo_Proceso_Servicio  Tipo_Proceso_Sistema  \n",
      "0                      0.0                    1.0                   0.0  \n",
      "1                      0.0                    0.0                   1.0  \n",
      "2                      0.0                    1.0                   0.0  \n",
      "3                      1.0                    0.0                   0.0  \n",
      "4                      1.0                    0.0                   0.0  \n"
     ]
    }
   ],
   "source": [
    "ohe = OneHotEncoder(sparse_output=False, handle_unknown=\"ignore\")\n",
    "ohe.fit(X_train[categorical_cols])\n",
    "\n",
    "encoded_cols_train = pd.DataFrame(\n",
    "    ohe.transform(X_train[categorical_cols]),\n",
    "    columns=ohe.get_feature_names_out(),\n",
    "    index=X_train.index)\n",
    "\n",
    "encoded_cols_val = pd.DataFrame(\n",
    "    ohe.transform(X_val[categorical_cols]),\n",
    "    columns=ohe.get_feature_names_out(),\n",
    "    index=X_val.index)\n",
    "\n",
    "encoded_cols_test = pd.DataFrame(\n",
    "    ohe.transform(X_test[categorical_cols]),\n",
    "    columns=ohe.get_feature_names_out(),\n",
    "    index=X_test.index)\n",
    "\n",
    "X_train_encoded = pd.concat([X_train.drop(columns=categorical_cols).reset_index(drop=True), encoded_cols_train.reset_index(drop=True)], axis=1)\n",
    "X_val_encoded = pd.concat([X_val.drop(columns=categorical_cols).reset_index(drop=True), encoded_cols_val.reset_index(drop=True)], axis=1)\n",
    "X_test_encoded = pd.concat([X_test.drop(columns=categorical_cols).reset_index(drop=True), encoded_cols_test.reset_index(drop=True)], axis=1)\n",
    "\n",
    "print(\"\\nDataset de entrenamiento tras One-Hot Encoding:\")\n",
    "print(X_train_encoded.head())"
   ]
  },
  {
   "cell_type": "markdown",
   "id": "847d6e89",
   "metadata": {},
   "source": [
    "Ahora se escalarán los datos con StandardScaler"
   ]
  },
  {
   "cell_type": "code",
   "execution_count": 15,
   "id": "3a86ccee",
   "metadata": {},
   "outputs": [
    {
     "data": {
      "text/plain": [
       "Index(['Uso_CPU', 'Uso_Memoria', 'Numero_Hilos', 'Tiempo_Ejecucion',\n",
       "       'Numero_Errores'],\n",
       "      dtype='object')"
      ]
     },
     "execution_count": 15,
     "metadata": {},
     "output_type": "execute_result"
    }
   ],
   "source": [
    "numeric_cols"
   ]
  },
  {
   "cell_type": "code",
   "execution_count": 16,
   "id": "71ee6779",
   "metadata": {},
   "outputs": [
    {
     "name": "stdout",
     "output_type": "stream",
     "text": [
      "\n",
      "Dataset de entrenamiento tras escalado:\n",
      "    Uso_CPU  Uso_Memoria  Numero_Hilos  Tiempo_Ejecucion  Numero_Errores  \\\n",
      "0 -0.718980    -0.800893     -0.002597          0.292675       -0.448802   \n",
      "1  1.499431    -1.533825      1.622823         -0.374821        0.892198   \n",
      "2  1.135273     0.071572     -0.355950         -0.288501        0.892198   \n",
      "3 -0.222500    -1.100164      1.622823         -0.639904       -0.001802   \n",
      "4  1.495744     0.201114     -0.779972         -0.873187        0.892198   \n",
      "\n",
      "   Tipo_Proceso_Aplicación  Tipo_Proceso_Servicio  Tipo_Proceso_Sistema  \n",
      "0                      0.0                    1.0                   0.0  \n",
      "1                      0.0                    0.0                   1.0  \n",
      "2                      0.0                    1.0                   0.0  \n",
      "3                      1.0                    0.0                   0.0  \n",
      "4                      1.0                    0.0                   0.0  \n"
     ]
    }
   ],
   "source": [
    "scaler = StandardScaler()\n",
    "scaler.fit(X_train_encoded[numeric_cols])\n",
    "\n",
    "X_train_processed = X_train_encoded.copy()\n",
    "X_val_processed = X_val_encoded.copy()\n",
    "X_test_processed = X_test_encoded.copy()\n",
    "\n",
    "X_train_processed[numeric_cols] = scaler.transform(X_train_encoded[numeric_cols])\n",
    "X_val_processed[numeric_cols] = scaler.transform(X_val_encoded[numeric_cols])\n",
    "X_test_processed[numeric_cols] = scaler.transform(X_test_encoded[numeric_cols])\n",
    "\n",
    "print(\"\\nDataset de entrenamiento tras escalado:\")\n",
    "print(X_train_processed.head())"
   ]
  },
  {
   "cell_type": "markdown",
   "id": "d024cc35",
   "metadata": {},
   "source": [
    "Realizaremos el SMOTE para balancear las clases en el conjunto de entrenamiento"
   ]
  },
  {
   "cell_type": "code",
   "execution_count": 17,
   "id": "88cc4b71",
   "metadata": {},
   "outputs": [
    {
     "name": "stdout",
     "output_type": "stream",
     "text": [
      "Distribución de clases antes de aplicar SMOTE:\n",
      "Estado\n",
      "0    0.935369\n",
      "1    0.064631\n",
      "Name: proportion, dtype: float64\n",
      "\n",
      "Distribución de clases después de aplicar SMOTE:\n",
      "Estado\n",
      "0    0.5\n",
      "1    0.5\n",
      "Name: proportion, dtype: float64\n"
     ]
    }
   ],
   "source": [
    "print(\"Distribución de clases antes de aplicar SMOTE:\")\n",
    "print(y_train.value_counts(normalize=True))\n",
    "\n",
    "smote = SMOTE(random_state=42)\n",
    "\n",
    "X_train_smote, y_train_smote = smote.fit_resample(X_train_processed, y_train)\n",
    "\n",
    "print(\"\\nDistribución de clases después de aplicar SMOTE:\")\n",
    "print(y_train_smote.value_counts(normalize=True))"
   ]
  },
  {
   "cell_type": "markdown",
   "id": "dfbda30a",
   "metadata": {},
   "source": [
    "### Modelado"
   ]
  },
  {
   "cell_type": "markdown",
   "id": "35f74b35",
   "metadata": {},
   "source": [
    "Usaremos el modelo de regresión logística"
   ]
  },
  {
   "cell_type": "code",
   "execution_count": 18,
   "id": "0da81183",
   "metadata": {},
   "outputs": [
    {
     "name": "stdout",
     "output_type": "stream",
     "text": [
      "Mejores parámetros para Regresión Logística: {'C': 0.01, 'penalty': 'l2', 'solver': 'liblinear'}\n"
     ]
    }
   ],
   "source": [
    "param_grid_lr = {\n",
    "    'C': [0.01, 0.1, 1],\n",
    "    'penalty': ['l1', 'l2'],\n",
    "    'solver': ['liblinear']\n",
    "}\n",
    "\n",
    "model_lr = LogisticRegression(random_state=42, max_iter=1000)\n",
    "\n",
    "# 2. Configurar y ejecutar GridSearchCV\n",
    "# Usamos 'roc_auc' como métrica de puntuación para optimizar\n",
    "grid_lr = GridSearchCV(model_lr, param_grid_lr, cv=5, scoring='roc_auc', n_jobs=-1)\n",
    "grid_lr.fit(X_train_smote, y_train_smote)\n",
    "\n",
    "# 3. Obtener el mejor modelo\n",
    "best_lr = grid_lr.best_estimator_\n",
    "print(f\"Mejores parámetros para Regresión Logística: {grid_lr.best_params_}\")"
   ]
  },
  {
   "cell_type": "code",
   "execution_count": 19,
   "id": "5101db12",
   "metadata": {},
   "outputs": [
    {
     "name": "stdout",
     "output_type": "stream",
     "text": [
      "Accuracy: 0.90088\n",
      "Precision: 0.3885431478643054\n",
      "Recall: 0.9301091905751293\n",
      "F1 Score: 0.5481165008075861\n",
      "ROC AUC: 0.9712873652118974\n"
     ]
    },
    {
     "data": {
      "image/png": "[encoded data removed]",
      "text/plain": [
       "<Figure size 640x480 with 1 Axes>"
      ]
     },
     "metadata": {},
     "output_type": "display_data"
    }
   ],
   "source": [
    "y_pred_lr = best_lr.predict(X_val_processed)\n",
    "y_proba_lr = best_lr.predict_proba(X_val_processed)[:, 1]\n",
    "\n",
    "print(\"Accuracy:\", accuracy_score(y_val, y_pred_lr))\n",
    "print(\"Precision:\", precision_score(y_val, y_pred_lr))\n",
    "print(\"Recall:\", recall_score(y_val, y_pred_lr))\n",
    "print(\"F1 Score:\", f1_score(y_val, y_pred_lr))\n",
    "print(\"ROC AUC:\", roc_auc_score(y_val, y_proba_lr))\n",
    "\n",
    "fpr_lr, tpr_lr, _ = roc_curve(y_val, y_proba_lr)\n",
    "plt.plot(fpr_lr, tpr_lr, label=\"Logistic Regression\")\n",
    "\n",
    "plt.plot([0, 1], [0, 1], 'k--')\n",
    "plt.xlabel('FPR')\n",
    "plt.ylabel('TPR')\n",
    "plt.title('Curva ROC en Validación')\n",
    "plt.legend()\n",
    "plt.show()"
   ]
  },
  {
   "cell_type": "markdown",
   "id": "116875a7",
   "metadata": {},
   "source": [
    "Árbol de decisión"
   ]
  },
  {
   "cell_type": "code",
   "execution_count": 20,
   "id": "b684cc05",
   "metadata": {},
   "outputs": [
    {
     "name": "stdout",
     "output_type": "stream",
     "text": [
      "Mejores parámetros para Árbol de Decisión: {'criterion': 'entropy', 'max_depth': 10, 'min_samples_split': 5}\n"
     ]
    }
   ],
   "source": [
    "param_grid_dt = {\n",
    "    'max_depth': [5, 10, 20],\n",
    "    'min_samples_split': [2, 5],\n",
    "    'criterion': ['entropy']\n",
    "}\n",
    "\n",
    "model_dt = DecisionTreeClassifier(random_state=42)\n",
    "\n",
    "# 2. Configurar y ejecutar GridSearchCV\n",
    "grid_dt = GridSearchCV(model_dt, param_grid_dt, cv=5, scoring='roc_auc', n_jobs=-1)\n",
    "grid_dt.fit(X_train_smote, y_train_smote)\n",
    "\n",
    "# 3. Obtener el mejor modelo\n",
    "best_dt = grid_dt.best_estimator_\n",
    "print(f\"Mejores parámetros para Árbol de Decisión: {grid_dt.best_params_}\")"
   ]
  },
  {
   "cell_type": "code",
   "execution_count": 21,
   "id": "bcf6a227",
   "metadata": {},
   "outputs": [
    {
     "name": "stdout",
     "output_type": "stream",
     "text": [
      "Accuracy: 0.8905857142857143\n",
      "Precision: 0.36608454940022556\n",
      "Recall: 0.9470845674373369\n",
      "F1 Score: 0.5280554083531543\n",
      "ROC AUC: 0.9710403443046809\n"
     ]
    },
    {
     "data": {
      "image/png": "[encoded data removed]",
      "text/plain": [
       "<Figure size 640x480 with 1 Axes>"
      ]
     },
     "metadata": {},
     "output_type": "display_data"
    }
   ],
   "source": [
    "y_pred_dt = best_dt.predict(X_val_processed)\n",
    "y_proba_dt = best_dt.predict_proba(X_val_processed)[:, 1]\n",
    "\n",
    "print(\"Accuracy:\", accuracy_score(y_val, y_pred_dt))\n",
    "print(\"Precision:\", precision_score(y_val, y_pred_dt))\n",
    "print(\"Recall:\", recall_score(y_val, y_pred_dt))\n",
    "print(\"F1 Score:\", f1_score(y_val, y_pred_dt))\n",
    "print(\"ROC AUC:\", roc_auc_score(y_val, y_proba_dt))\n",
    "\n",
    "fpr_dt, tpr_dt, _ = roc_curve(y_val, y_proba_dt)\n",
    "plt.plot(fpr_dt, tpr_dt, label=\"Logistic Regression\")\n",
    "\n",
    "plt.plot([0, 1], [0, 1], 'k--')\n",
    "plt.xlabel('FPR')\n",
    "plt.ylabel('TPR')\n",
    "plt.title('Curva ROC en Validación')\n",
    "plt.legend()\n",
    "plt.show()"
   ]
  },
  {
   "cell_type": "markdown",
   "id": "6da0d52d",
   "metadata": {},
   "source": [
    "Random Forest"
   ]
  },
  {
   "cell_type": "code",
   "execution_count": 22,
   "id": "0f965d4c",
   "metadata": {},
   "outputs": [
    {
     "ename": "KeyboardInterrupt",
     "evalue": "",
     "output_type": "error",
     "traceback": [
      "\u001b[31m---------------------------------------------------------------------------\u001b[39m",
      "\u001b[31mKeyboardInterrupt\u001b[39m                         Traceback (most recent call last)",
      "\u001b[36mCell\u001b[39m\u001b[36m \u001b[39m\u001b[32mIn[22]\u001b[39m\u001b[32m, line 11\u001b[39m\n\u001b[32m      9\u001b[39m \u001b[38;5;66;03m# 2. Configurar y ejecutar GridSearchCV\u001b[39;00m\n\u001b[32m     10\u001b[39m grid_rf = GridSearchCV(model_rf, param_grid_rf, cv=\u001b[32m5\u001b[39m, scoring=\u001b[33m'\u001b[39m\u001b[33mroc_auc\u001b[39m\u001b[33m'\u001b[39m, n_jobs=-\u001b[32m1\u001b[39m)\n\u001b[32m---> \u001b[39m\u001b[32m11\u001b[39m \u001b[43mgrid_rf\u001b[49m\u001b[43m.\u001b[49m\u001b[43mfit\u001b[49m\u001b[43m(\u001b[49m\u001b[43mX_train_smote\u001b[49m\u001b[43m,\u001b[49m\u001b[43m \u001b[49m\u001b[43my_train_smote\u001b[49m\u001b[43m)\u001b[49m\n\u001b[32m     13\u001b[39m \u001b[38;5;66;03m# 3. Obtener el mejor modelo\u001b[39;00m\n\u001b[32m     14\u001b[39m best_rf = grid_dt.best_estimator_\n",
      "\u001b[36mFile \u001b[39m\u001b[32mc:\\dev\\datapath_modelo_clasificacion_JDPN\\.venv\\Lib\\site-packages\\sklearn\\base.py:1389\u001b[39m, in \u001b[36m_fit_context.<locals>.decorator.<locals>.wrapper\u001b[39m\u001b[34m(estimator, *args, **kwargs)\u001b[39m\n\u001b[32m   1382\u001b[39m     estimator._validate_params()\n\u001b[32m   1384\u001b[39m \u001b[38;5;28;01mwith\u001b[39;00m config_context(\n\u001b[32m   1385\u001b[39m     skip_parameter_validation=(\n\u001b[32m   1386\u001b[39m         prefer_skip_nested_validation \u001b[38;5;129;01mor\u001b[39;00m global_skip_validation\n\u001b[32m   1387\u001b[39m     )\n\u001b[32m   1388\u001b[39m ):\n\u001b[32m-> \u001b[39m\u001b[32m1389\u001b[39m     \u001b[38;5;28;01mreturn\u001b[39;00m \u001b[43mfit_method\u001b[49m\u001b[43m(\u001b[49m\u001b[43mestimator\u001b[49m\u001b[43m,\u001b[49m\u001b[43m \u001b[49m\u001b[43m*\u001b[49m\u001b[43margs\u001b[49m\u001b[43m,\u001b[49m\u001b[43m \u001b[49m\u001b[43m*\u001b[49m\u001b[43m*\u001b[49m\u001b[43mkwargs\u001b[49m\u001b[43m)\u001b[49m\n",
      "\u001b[36mFile \u001b[39m\u001b[32mc:\\dev\\datapath_modelo_clasificacion_JDPN\\.venv\\Lib\\site-packages\\sklearn\\model_selection\\_search.py:1024\u001b[39m, in \u001b[36mBaseSearchCV.fit\u001b[39m\u001b[34m(self, X, y, **params)\u001b[39m\n\u001b[32m   1018\u001b[39m     results = \u001b[38;5;28mself\u001b[39m._format_results(\n\u001b[32m   1019\u001b[39m         all_candidate_params, n_splits, all_out, all_more_results\n\u001b[32m   1020\u001b[39m     )\n\u001b[32m   1022\u001b[39m     \u001b[38;5;28;01mreturn\u001b[39;00m results\n\u001b[32m-> \u001b[39m\u001b[32m1024\u001b[39m \u001b[38;5;28;43mself\u001b[39;49m\u001b[43m.\u001b[49m\u001b[43m_run_search\u001b[49m\u001b[43m(\u001b[49m\u001b[43mevaluate_candidates\u001b[49m\u001b[43m)\u001b[49m\n\u001b[32m   1026\u001b[39m \u001b[38;5;66;03m# multimetric is determined here because in the case of a callable\u001b[39;00m\n\u001b[32m   1027\u001b[39m \u001b[38;5;66;03m# self.scoring the return type is only known after calling\u001b[39;00m\n\u001b[32m   1028\u001b[39m first_test_score = all_out[\u001b[32m0\u001b[39m][\u001b[33m\"\u001b[39m\u001b[33mtest_scores\u001b[39m\u001b[33m\"\u001b[39m]\n",
      "\u001b[36mFile \u001b[39m\u001b[32mc:\\dev\\datapath_modelo_clasificacion_JDPN\\.venv\\Lib\\site-packages\\sklearn\\model_selection\\_search.py:1571\u001b[39m, in \u001b[36mGridSearchCV._run_search\u001b[39m\u001b[34m(self, evaluate_candidates)\u001b[39m\n\u001b[32m   1569\u001b[39m \u001b[38;5;28;01mdef\u001b[39;00m\u001b[38;5;250m \u001b[39m\u001b[34m_run_search\u001b[39m(\u001b[38;5;28mself\u001b[39m, evaluate_candidates):\n\u001b[32m   1570\u001b[39m \u001b[38;5;250m    \u001b[39m\u001b[33;03m\"\"\"Search all candidates in param_grid\"\"\"\u001b[39;00m\n\u001b[32m-> \u001b[39m\u001b[32m1571\u001b[39m     \u001b[43mevaluate_candidates\u001b[49m\u001b[43m(\u001b[49m\u001b[43mParameterGrid\u001b[49m\u001b[43m(\u001b[49m\u001b[38;5;28;43mself\u001b[39;49m\u001b[43m.\u001b[49m\u001b[43mparam_grid\u001b[49m\u001b[43m)\u001b[49m\u001b[43m)\u001b[49m\n",
      "\u001b[36mFile \u001b[39m\u001b[32mc:\\dev\\datapath_modelo_clasificacion_JDPN\\.venv\\Lib\\site-packages\\sklearn\\model_selection\\_search.py:970\u001b[39m, in \u001b[36mBaseSearchCV.fit.<locals>.evaluate_candidates\u001b[39m\u001b[34m(candidate_params, cv, more_results)\u001b[39m\n\u001b[32m    962\u001b[39m \u001b[38;5;28;01mif\u001b[39;00m \u001b[38;5;28mself\u001b[39m.verbose > \u001b[32m0\u001b[39m:\n\u001b[32m    963\u001b[39m     \u001b[38;5;28mprint\u001b[39m(\n\u001b[32m    964\u001b[39m         \u001b[33m\"\u001b[39m\u001b[33mFitting \u001b[39m\u001b[38;5;132;01m{0}\u001b[39;00m\u001b[33m folds for each of \u001b[39m\u001b[38;5;132;01m{1}\u001b[39;00m\u001b[33m candidates,\u001b[39m\u001b[33m\"\u001b[39m\n\u001b[32m    965\u001b[39m         \u001b[33m\"\u001b[39m\u001b[33m totalling \u001b[39m\u001b[38;5;132;01m{2}\u001b[39;00m\u001b[33m fits\u001b[39m\u001b[33m\"\u001b[39m.format(\n\u001b[32m    966\u001b[39m             n_splits, n_candidates, n_candidates * n_splits\n\u001b[32m    967\u001b[39m         )\n\u001b[32m    968\u001b[39m     )\n\u001b[32m--> \u001b[39m\u001b[32m970\u001b[39m out = \u001b[43mparallel\u001b[49m\u001b[43m(\u001b[49m\n\u001b[32m    971\u001b[39m \u001b[43m    \u001b[49m\u001b[43mdelayed\u001b[49m\u001b[43m(\u001b[49m\u001b[43m_fit_and_score\u001b[49m\u001b[43m)\u001b[49m\u001b[43m(\u001b[49m\n\u001b[32m    972\u001b[39m \u001b[43m        \u001b[49m\u001b[43mclone\u001b[49m\u001b[43m(\u001b[49m\u001b[43mbase_estimator\u001b[49m\u001b[43m)\u001b[49m\u001b[43m,\u001b[49m\n\u001b[32m    973\u001b[39m \u001b[43m        \u001b[49m\u001b[43mX\u001b[49m\u001b[43m,\u001b[49m\n\u001b[32m    974\u001b[39m \u001b[43m        \u001b[49m\u001b[43my\u001b[49m\u001b[43m,\u001b[49m\n\u001b[32m    975\u001b[39m \u001b[43m        \u001b[49m\u001b[43mtrain\u001b[49m\u001b[43m=\u001b[49m\u001b[43mtrain\u001b[49m\u001b[43m,\u001b[49m\n\u001b[32m    976\u001b[39m \u001b[43m        \u001b[49m\u001b[43mtest\u001b[49m\u001b[43m=\u001b[49m\u001b[43mtest\u001b[49m\u001b[43m,\u001b[49m\n\u001b[32m    977\u001b[39m \u001b[43m        \u001b[49m\u001b[43mparameters\u001b[49m\u001b[43m=\u001b[49m\u001b[43mparameters\u001b[49m\u001b[43m,\u001b[49m\n\u001b[32m    978\u001b[39m \u001b[43m        \u001b[49m\u001b[43msplit_progress\u001b[49m\u001b[43m=\u001b[49m\u001b[43m(\u001b[49m\u001b[43msplit_idx\u001b[49m\u001b[43m,\u001b[49m\u001b[43m \u001b[49m\u001b[43mn_splits\u001b[49m\u001b[43m)\u001b[49m\u001b[43m,\u001b[49m\n\u001b[32m    979\u001b[39m \u001b[43m        \u001b[49m\u001b[43mcandidate_progress\u001b[49m\u001b[43m=\u001b[49m\u001b[43m(\u001b[49m\u001b[43mcand_idx\u001b[49m\u001b[43m,\u001b[49m\u001b[43m \u001b[49m\u001b[43mn_candidates\u001b[49m\u001b[43m)\u001b[49m\u001b[43m,\u001b[49m\n\u001b[32m    980\u001b[39m \u001b[43m        \u001b[49m\u001b[43m*\u001b[49m\u001b[43m*\u001b[49m\u001b[43mfit_and_score_kwargs\u001b[49m\u001b[43m,\u001b[49m\n\u001b[32m    981\u001b[39m \u001b[43m    \u001b[49m\u001b[43m)\u001b[49m\n\u001b[32m    982\u001b[39m \u001b[43m    \u001b[49m\u001b[38;5;28;43;01mfor\u001b[39;49;00m\u001b[43m \u001b[49m\u001b[43m(\u001b[49m\u001b[43mcand_idx\u001b[49m\u001b[43m,\u001b[49m\u001b[43m \u001b[49m\u001b[43mparameters\u001b[49m\u001b[43m)\u001b[49m\u001b[43m,\u001b[49m\u001b[43m \u001b[49m\u001b[43m(\u001b[49m\u001b[43msplit_idx\u001b[49m\u001b[43m,\u001b[49m\u001b[43m \u001b[49m\u001b[43m(\u001b[49m\u001b[43mtrain\u001b[49m\u001b[43m,\u001b[49m\u001b[43m \u001b[49m\u001b[43mtest\u001b[49m\u001b[43m)\u001b[49m\u001b[43m)\u001b[49m\u001b[43m \u001b[49m\u001b[38;5;129;43;01min\u001b[39;49;00m\u001b[43m \u001b[49m\u001b[43mproduct\u001b[49m\u001b[43m(\u001b[49m\n\u001b[32m    983\u001b[39m \u001b[43m        \u001b[49m\u001b[38;5;28;43menumerate\u001b[39;49m\u001b[43m(\u001b[49m\u001b[43mcandidate_params\u001b[49m\u001b[43m)\u001b[49m\u001b[43m,\u001b[49m\n\u001b[32m    984\u001b[39m \u001b[43m        \u001b[49m\u001b[38;5;28;43menumerate\u001b[39;49m\u001b[43m(\u001b[49m\u001b[43mcv\u001b[49m\u001b[43m.\u001b[49m\u001b[43msplit\u001b[49m\u001b[43m(\u001b[49m\u001b[43mX\u001b[49m\u001b[43m,\u001b[49m\u001b[43m \u001b[49m\u001b[43my\u001b[49m\u001b[43m,\u001b[49m\u001b[43m \u001b[49m\u001b[43m*\u001b[49m\u001b[43m*\u001b[49m\u001b[43mrouted_params\u001b[49m\u001b[43m.\u001b[49m\u001b[43msplitter\u001b[49m\u001b[43m.\u001b[49m\u001b[43msplit\u001b[49m\u001b[43m)\u001b[49m\u001b[43m)\u001b[49m\u001b[43m,\u001b[49m\n\u001b[32m    985\u001b[39m \u001b[43m    \u001b[49m\u001b[43m)\u001b[49m\n\u001b[32m    986\u001b[39m \u001b[43m\u001b[49m\u001b[43m)\u001b[49m\n\u001b[32m    988\u001b[39m \u001b[38;5;28;01mif\u001b[39;00m \u001b[38;5;28mlen\u001b[39m(out) < \u001b[32m1\u001b[39m:\n\u001b[32m    989\u001b[39m     \u001b[38;5;28;01mraise\u001b[39;00m \u001b[38;5;167;01mValueError\u001b[39;00m(\n\u001b[32m    990\u001b[39m         \u001b[33m\"\u001b[39m\u001b[33mNo fits were performed. \u001b[39m\u001b[33m\"\u001b[39m\n\u001b[32m    991\u001b[39m         \u001b[33m\"\u001b[39m\u001b[33mWas the CV iterator empty? \u001b[39m\u001b[33m\"\u001b[39m\n\u001b[32m    992\u001b[39m         \u001b[33m\"\u001b[39m\u001b[33mWere there no candidates?\u001b[39m\u001b[33m\"\u001b[39m\n\u001b[32m    993\u001b[39m     )\n",
      "\u001b[36mFile \u001b[39m\u001b[32mc:\\dev\\datapath_modelo_clasificacion_JDPN\\.venv\\Lib\\site-packages\\sklearn\\utils\\parallel.py:77\u001b[39m, in \u001b[36mParallel.__call__\u001b[39m\u001b[34m(self, iterable)\u001b[39m\n\u001b[32m     72\u001b[39m config = get_config()\n\u001b[32m     73\u001b[39m iterable_with_config = (\n\u001b[32m     74\u001b[39m     (_with_config(delayed_func, config), args, kwargs)\n\u001b[32m     75\u001b[39m     \u001b[38;5;28;01mfor\u001b[39;00m delayed_func, args, kwargs \u001b[38;5;129;01min\u001b[39;00m iterable\n\u001b[32m     76\u001b[39m )\n\u001b[32m---> \u001b[39m\u001b[32m77\u001b[39m \u001b[38;5;28;01mreturn\u001b[39;00m \u001b[38;5;28;43msuper\u001b[39;49m\u001b[43m(\u001b[49m\u001b[43m)\u001b[49m\u001b[43m.\u001b[49m\u001b[34;43m__call__\u001b[39;49m\u001b[43m(\u001b[49m\u001b[43miterable_with_config\u001b[49m\u001b[43m)\u001b[49m\n",
      "\u001b[36mFile \u001b[39m\u001b[32mc:\\dev\\datapath_modelo_clasificacion_JDPN\\.venv\\Lib\\site-packages\\joblib\\parallel.py:2072\u001b[39m, in \u001b[36mParallel.__call__\u001b[39m\u001b[34m(self, iterable)\u001b[39m\n\u001b[32m   2066\u001b[39m \u001b[38;5;66;03m# The first item from the output is blank, but it makes the interpreter\u001b[39;00m\n\u001b[32m   2067\u001b[39m \u001b[38;5;66;03m# progress until it enters the Try/Except block of the generator and\u001b[39;00m\n\u001b[32m   2068\u001b[39m \u001b[38;5;66;03m# reaches the first `yield` statement. This starts the asynchronous\u001b[39;00m\n\u001b[32m   2069\u001b[39m \u001b[38;5;66;03m# dispatch of the tasks to the workers.\u001b[39;00m\n\u001b[32m   2070\u001b[39m \u001b[38;5;28mnext\u001b[39m(output)\n\u001b[32m-> \u001b[39m\u001b[32m2072\u001b[39m \u001b[38;5;28;01mreturn\u001b[39;00m output \u001b[38;5;28;01mif\u001b[39;00m \u001b[38;5;28mself\u001b[39m.return_generator \u001b[38;5;28;01melse\u001b[39;00m \u001b[38;5;28;43mlist\u001b[39;49m\u001b[43m(\u001b[49m\u001b[43moutput\u001b[49m\u001b[43m)\u001b[49m\n",
      "\u001b[36mFile \u001b[39m\u001b[32mc:\\dev\\datapath_modelo_clasificacion_JDPN\\.venv\\Lib\\site-packages\\joblib\\parallel.py:1682\u001b[39m, in \u001b[36mParallel._get_outputs\u001b[39m\u001b[34m(self, iterator, pre_dispatch)\u001b[39m\n\u001b[32m   1679\u001b[39m     \u001b[38;5;28;01myield\u001b[39;00m\n\u001b[32m   1681\u001b[39m     \u001b[38;5;28;01mwith\u001b[39;00m \u001b[38;5;28mself\u001b[39m._backend.retrieval_context():\n\u001b[32m-> \u001b[39m\u001b[32m1682\u001b[39m         \u001b[38;5;28;01myield from\u001b[39;00m \u001b[38;5;28mself\u001b[39m._retrieve()\n\u001b[32m   1684\u001b[39m \u001b[38;5;28;01mexcept\u001b[39;00m \u001b[38;5;167;01mGeneratorExit\u001b[39;00m:\n\u001b[32m   1685\u001b[39m     \u001b[38;5;66;03m# The generator has been garbage collected before being fully\u001b[39;00m\n\u001b[32m   1686\u001b[39m     \u001b[38;5;66;03m# consumed. This aborts the remaining tasks if possible and warn\u001b[39;00m\n\u001b[32m   1687\u001b[39m     \u001b[38;5;66;03m# the user if necessary.\u001b[39;00m\n\u001b[32m   1688\u001b[39m     \u001b[38;5;28mself\u001b[39m._exception = \u001b[38;5;28;01mTrue\u001b[39;00m\n",
      "\u001b[36mFile \u001b[39m\u001b[32mc:\\dev\\datapath_modelo_clasificacion_JDPN\\.venv\\Lib\\site-packages\\joblib\\parallel.py:1800\u001b[39m, in \u001b[36mParallel._retrieve\u001b[39m\u001b[34m(self)\u001b[39m\n\u001b[32m   1789\u001b[39m \u001b[38;5;28;01mif\u001b[39;00m \u001b[38;5;28mself\u001b[39m.return_ordered:\n\u001b[32m   1790\u001b[39m     \u001b[38;5;66;03m# Case ordered: wait for completion (or error) of the next job\u001b[39;00m\n\u001b[32m   1791\u001b[39m     \u001b[38;5;66;03m# that have been dispatched and not retrieved yet. If no job\u001b[39;00m\n\u001b[32m   (...)\u001b[39m\u001b[32m   1795\u001b[39m     \u001b[38;5;66;03m# control only have to be done on the amount of time the next\u001b[39;00m\n\u001b[32m   1796\u001b[39m     \u001b[38;5;66;03m# dispatched job is pending.\u001b[39;00m\n\u001b[32m   1797\u001b[39m     \u001b[38;5;28;01mif\u001b[39;00m (nb_jobs == \u001b[32m0\u001b[39m) \u001b[38;5;129;01mor\u001b[39;00m (\n\u001b[32m   1798\u001b[39m         \u001b[38;5;28mself\u001b[39m._jobs[\u001b[32m0\u001b[39m].get_status(timeout=\u001b[38;5;28mself\u001b[39m.timeout) == TASK_PENDING\n\u001b[32m   1799\u001b[39m     ):\n\u001b[32m-> \u001b[39m\u001b[32m1800\u001b[39m         time.sleep(\u001b[32m0.01\u001b[39m)\n\u001b[32m   1801\u001b[39m         \u001b[38;5;28;01mcontinue\u001b[39;00m\n\u001b[32m   1803\u001b[39m \u001b[38;5;28;01melif\u001b[39;00m nb_jobs == \u001b[32m0\u001b[39m:\n\u001b[32m   1804\u001b[39m     \u001b[38;5;66;03m# Case unordered: jobs are added to the list of jobs to\u001b[39;00m\n\u001b[32m   1805\u001b[39m     \u001b[38;5;66;03m# retrieve `self._jobs` only once completed or in error, which\u001b[39;00m\n\u001b[32m   (...)\u001b[39m\u001b[32m   1811\u001b[39m     \u001b[38;5;66;03m# timeouts before any other dispatched job has completed and\u001b[39;00m\n\u001b[32m   1812\u001b[39m     \u001b[38;5;66;03m# been added to `self._jobs` to be retrieved.\u001b[39;00m\n",
      "\u001b[31mKeyboardInterrupt\u001b[39m: "
     ]
    }
   ],
   "source": [
    "param_grid_rf = {\n",
    "    'n_estimators': [100, 200],      # Número de árboles en el bosque\n",
    "    'max_depth': [10, 20],         # Profundidad máxima\n",
    "    'min_samples_leaf': [1, 2]    # Mínimo de muestras en un nodo hoja\n",
    "}\n",
    "\n",
    "model_rf = RandomForestClassifier(random_state=42)\n",
    "\n",
    "# 2. Configurar y ejecutar GridSearchCV\n",
    "grid_rf = GridSearchCV(model_rf, param_grid_rf, cv=5, scoring='roc_auc', n_jobs=-1)\n",
    "grid_rf.fit(X_train_smote, y_train_smote)\n",
    "\n",
    "# 3. Obtener el mejor modelo\n",
    "best_rf = grid_dt.best_estimator_\n",
    "print(f\"Mejores parámetros para Árbol de Decisión: {grid_rf.best_params_}\")"
   ]
  },
  {
   "cell_type": "code",
   "execution_count": null,
   "id": "517352ca",
   "metadata": {},
   "outputs": [],
   "source": [
    "y_pred_rf = best_rf.predict(X_val_processed)\n",
    "y_proba_rf = best_rf.predict_proba(X_val_processed)[:, 1]\n",
    "\n",
    "print(\"Accuracy:\", accuracy_score(y_val, y_pred_rf))\n",
    "print(\"Precision:\", precision_score(y_val, y_pred_rf))\n",
    "print(\"Recall:\", recall_score(y_val, y_pred_rf))\n",
    "print(\"F1 Score:\", f1_score(y_val, y_pred_rf))\n",
    "print(\"ROC AUC:\", roc_auc_score(y_val, y_proba_rf))\n",
    "\n",
    "fpr_rf, tpr_rf, _ = roc_curve(y_val, y_proba_rf)\n",
    "plt.plot(fpr_rf, tpr_rf, label=\"Random Forest\")\n",
    "\n",
    "plt.plot([0, 1], [0, 1], 'k--')\n",
    "plt.xlabel('FPR')\n",
    "plt.ylabel('TPR')\n",
    "plt.title('Curva ROC en Validación')\n",
    "plt.legend()\n",
    "plt.show()"
   ]
  },
  {
   "cell_type": "markdown",
   "id": "8122a06b",
   "metadata": {},
   "source": [
    "Support Vector Machine (SVM)"
   ]
  },
  {
   "cell_type": "code",
   "execution_count": null,
   "id": "ce0d1fe0",
   "metadata": {},
   "outputs": [],
   "source": [
    "param_grid_svm = {\n",
    "    'C': [0.1, 1, 10],\n",
    "    'gamma': ['scale', 'auto'],\n",
    "    'kernel': ['rbf']\n",
    "}\n",
    "\n",
    "model_svm = SVC(random_state=42, probability=True)\n",
    "\n",
    "# 2. Configurar y ejecutar GridSearchCV\n",
    "# Habilitar `probability=True` es crucial para poder obtener la curva ROC\n",
    "grid_svm = GridSearchCV(model_svm, param_grid_svm, cv=5, scoring='roc_auc', n_jobs=-1)\n",
    "grid_svm.fit(X_train_smote, y_train_smote)\n",
    "\n",
    "# 3. Obtener el mejor modelo\n",
    "best_svm = grid_svm.best_estimator_\n",
    "print(f\"Mejores parámetros para SVM: {grid_svm.best_params_}\")"
   ]
  },
  {
   "cell_type": "code",
   "execution_count": null,
   "id": "58f16f49",
   "metadata": {},
   "outputs": [],
   "source": [
    "y_pred_svm = best_svm.predict(X_val_processed)\n",
    "y_proba_svm = best_svm.predict_proba(X_val_processed)[:, 1]\n",
    "\n",
    "print(\"Accuracy:\", accuracy_score(y_val, y_pred_svm))\n",
    "print(\"Precision:\", precision_score(y_val, y_pred_svm))\n",
    "print(\"Recall:\", recall_score(y_val, y_pred_svm))\n",
    "print(\"F1 Score:\", f1_score(y_val, y_pred_svm))\n",
    "print(\"ROC AUC:\", roc_auc_score(y_val, y_proba_svm))\n",
    "\n",
    "fpr_svm, tpr_svm, _ = roc_curve(y_val, y_proba_svm)\n",
    "plt.plot(fpr_svm, tpr_svm, label=\"Support Vector Machine\")\n",
    "\n",
    "plt.plot([0, 1], [0, 1], 'k--')\n",
    "plt.xlabel('FPR')\n",
    "plt.ylabel('TPR')\n",
    "plt.title('Curva ROC en Validación')\n",
    "plt.legend()\n",
    "plt.show()"
   ]
  },
  {
   "cell_type": "markdown",
   "id": "d9d3ad41",
   "metadata": {},
   "source": [
    "Análisis final"
   ]
  },
  {
   "cell_type": "code",
   "execution_count": null,
   "id": "d5767a9a",
   "metadata": {},
   "outputs": [],
   "source": [
    "y_pred_lr = best_lr.predict(X_test_processed)\n",
    "y_prob_lr = best_lr.predict_proba(X_test_processed)[:, 1]\n",
    "\n",
    "y_pred_dt = best_dt.predict(X_test_processed)\n",
    "y_prob_dt = best_dt.predict_proba(X_test_processed)[:, 1]\n",
    "\n",
    "y_pred_rf = best_rf.predict(X_test_processed)\n",
    "y_prob_rf = best_rf.predict_proba(X_test_processed)[:, 1]\n",
    "\n",
    "y_pred_svm = best_svm.predict(X_test_processed)\n",
    "y_prob_svm = best_svm.predict_proba(X_test_processed)[:, 1]\n",
    "\n",
    "print(\"\\n--- Evaluación Final: Regresión Logística ---\")\n",
    "print(classification_report(y_test, y_pred_lr))\n",
    "print(f\"AUC Score: {roc_auc_score(y_test, y_prob_lr):.4f}\")\n",
    "\n",
    "print(\"\\n--- Evaluación Final: Árbol de Decisión ---\")\n",
    "print(classification_report(y_test, y_pred_dt))\n",
    "print(f\"AUC Score: {roc_auc_score(y_test, y_prob_dt):.4f}\")\n",
    "\n",
    "print(\"\\n--- Evaluación Final: Random Forest ---\")\n",
    "print(classification_report(y_test, y_pred_rf))\n",
    "print(f\"AUC Score: {roc_auc_score(y_test, y_prob_rf):.4f}\")\n",
    "\n",
    "print(\"\\n--- Evaluación Final: Support Vector Machine ---\")\n",
    "print(classification_report(y_test, y_pred_svm))\n",
    "print(f\"AUC Score: {roc_auc_score(y_test, y_prob_svm):.4f}\")"
   ]
  }
 ],
 "metadata": {
  "kernelspec": {
   "display_name": "datapath-modelo-clasificacion-jdpn (3.11.13)",
   "language": "python",
   "name": "python3"
  },
  "language_info": {
   "codemirror_mode": {
    "name": "ipython",
    "version": 3
   },
   "file_extension": ".py",
   "mimetype": "text/x-python",
   "name": "python",
   "nbconvert_exporter": "python",
   "pygments_lexer": "ipython3",
   "version": "3.11.13"
  }
 },
 "nbformat": 4,
 "nbformat_minor": 5
}
